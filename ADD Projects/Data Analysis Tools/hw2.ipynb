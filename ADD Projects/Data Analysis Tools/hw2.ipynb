{
 "cells": [
  {
   "cell_type": "markdown",
   "metadata": {},
   "source": [
    "# Блок про подсчет кардинальности множеств"
   ]
  },
  {
   "cell_type": "markdown",
   "metadata": {},
   "source": [
    "### Реализовать алгоритм [Флажоле-Мартена](https://en.wikipedia.org/wiki/Flajolet–Martin_algorithm)\n",
    "\n",
    "\n",
    "1) Считаем нули в голове хеша\n",
    "\n",
    "2) Считаем максимум\n",
    "\n",
    "3) Вычисляем оценку для кол-ва элементов\n",
    "\n",
    "\n",
    "### Оценить ошибку алгоритма в зависимости от кол-ва уникальных элементовё\n",
    "\n",
    "1) Генерируем случайный список из N уникальных элементов с повторениями (например как в ячейке ниже)\n",
    "\n",
    "2) Считаем точное кол-во уников, сравниваем с Флажоле-Мартеном\n"
   ]
  },
  {
   "cell_type": "code",
   "execution_count": 1,
   "metadata": {},
   "outputs": [
    {
     "name": "stdout",
     "output_type": "stream",
     "text": [
      "Отличается на: 246\n"
     ]
    }
   ],
   "source": [
    "import random \n",
    "import math\n",
    "from collections import Counter\n",
    "\n",
    "#считаем нули  \n",
    "def zeros(x): \n",
    "    if x == 0: \n",
    "        return 1\n",
    "    count = 0\n",
    "    while x & 1 == 0: \n",
    "        count += 1\n",
    "        x >>= 1\n",
    "    return count \n",
    "#сам алгоритм  \n",
    "def flajolet_martin(dataset, k): \n",
    "    max_zeros= 0\n",
    "    for i in range(k): \n",
    "        hash = [zeros(random.choice(dataset)) \n",
    "                     for _ in range(len(dataset))] \n",
    "        max_zeros = max(max_zeros, max(hash)) \n",
    "      \n",
    "    return 2 ** max_zeros \n",
    "\n",
    "#Генерируем случайный список из N уникальных элементов с повторениями\n",
    "random_elements = [random.random() for _ in range(10)] \n",
    "unique_count = len(Counter(random_elements).keys())\n",
    "hash_elements = list(map(lambda y: bin(hash(y))[2:], random_elements))\n",
    "\n",
    "list_of_zeros = []\n",
    "for element in hash_elements:\n",
    "    counter = 0\n",
    "    for digit in element:\n",
    "        if digit == '0':\n",
    "            counter = counter + 1\n",
    "        if digit == '1':\n",
    "            counter = 0\n",
    "    list_of_zeros.append(counter)\n",
    "\n",
    "min_unique = 2**min(Counter(list_of_zeros).keys())\n",
    "difference = abs(min_unique - unique_count)\n",
    "\n",
    "print(f'Отличается на: {difference}')\n"
   ]
  },
  {
   "cell_type": "markdown",
   "metadata": {},
   "source": [
    "# Блок про О-нотацию"
   ]
  },
  {
   "cell_type": "markdown",
   "metadata": {},
   "source": [
    "Дан список рекуррентных соотношений на некоторые алгоритмы. Используя метод Акра-Бацци, найдите сложность алгоритма в О-нотации.\n",
    "\n",
    "\n",
    "1) $T(n) = 2T({n\\over4})+ 3T({n\\over6})+\\Theta(nlogn)$\n",
    "\n",
    "2) $T(n) = 2T({n\\over2})+ {8\\over9}T({3n\\over4})+\\Theta({n^2 \\over logn})$\n",
    "\n",
    "3) $T(n) = T({n\\over2})+ \\Theta({logn})$\n",
    "\n",
    "4) $T(n) = {1\\over2}T({n\\over2})+ \\Theta({1\\over n})$\n",
    "\n",
    "5а) Докажите сложность алгоритма \"медиана медиан\" и поясните, почему использование вместо числа < 5 не дает правильной асимптотики:\n",
    "\n",
    "5b) Эмпирически покажите, что алгоритм \"медиана медиан\" работает хуже по времени для деления на отрезки длины 3 и 7. (генерируете случайный список длины l, ищете медиану, замеряете время при различных способах разделения на куски - 3,5 и 7)"
   ]
  },
  {
   "cell_type": "code",
   "execution_count": null,
   "metadata": {},
   "outputs": [],
   "source": [
    "Сдал на листочке"
   ]
  }
 ],
 "metadata": {
  "kernelspec": {
   "display_name": "Python 3 (ipykernel)",
   "language": "python",
   "name": "python3"
  },
  "language_info": {
   "codemirror_mode": {
    "name": "ipython",
    "version": 3
   },
   "file_extension": ".py",
   "mimetype": "text/x-python",
   "name": "python",
   "nbconvert_exporter": "python",
   "pygments_lexer": "ipython3",
   "version": "3.10.9"
  }
 },
 "nbformat": 4,
 "nbformat_minor": 4
}
